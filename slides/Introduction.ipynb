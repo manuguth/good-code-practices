{
 "cells": [
  {
   "cell_type": "markdown",
   "metadata": {
    "slideshow": {
     "slide_type": "slide"
    }
   },
   "source": [
    "# General Introduction to Important Python Features\n",
    "\n",
    "### FTAG algo tutorial on good code practices, 14.04.2022\n",
    "\n",
    "### Manuel Guth\n",
    "\n",
    "with Material from GRK python workshop and RODEM good practices mini-workshop"
   ]
  },
  {
   "cell_type": "markdown",
   "metadata": {
    "slideshow": {
     "slide_type": "slide"
    }
   },
   "source": [
    "# Overview\n",
    "\n",
    "* [New Features in Python 3](#New-Features-in-Python-3)\n",
    "* [Generators](#Generators)\n",
    "* [Type hinting / Type declaration](#Type-hinting-/-Type-declaration)\n",
    "* [Logging](#Logging)\n",
    "* [argparse](#Command-line-options----argparse)\n",
    "* [What not to do](#What-NOT-to-do)\n",
    "* [Debugger](#Debugger-PDB)\n",
    "* [Code formatting & Linting](#Code-formatting-&-Linting)\n",
    "\n",
    "Auxiliary Material (for which we don't have enough time)\n",
    "* [Object-Oriented Programming](#Object-Oriented-Programming-(OOP))\n",
    "\n",
    "\n",
    "reusing some material from https://indico.cern.ch/event/846501\n"
   ]
  },
  {
   "cell_type": "markdown",
   "metadata": {
    "slideshow": {
     "slide_type": "slide"
    }
   },
   "source": [
    "# New Features in Python 3"
   ]
  },
  {
   "cell_type": "markdown",
   "metadata": {
    "slideshow": {
     "slide_type": "fragment"
    }
   },
   "source": [
    "* Python 2 is deprecated since beginning of 2020\n",
    "* Python 3 already has 10 minor releases (3.xx)\n",
    "* For all changes have a look at [What's New in Python](https://docs.python.org/3/whatsnew/index.html)\n",
    "* [Cheat Sheet: Writing Python 2-3 compatible code](http://python-future.org/compatible_idioms.html)\n",
    "\n",
    "are your libraries ready for python 3.10? [have a look](https://pyreadiness.org/3.10/)"
   ]
  },
  {
   "cell_type": "markdown",
   "metadata": {
    "slideshow": {
     "slide_type": "slide"
    }
   },
   "source": [
    "## f-Strings"
   ]
  },
  {
   "cell_type": "markdown",
   "metadata": {
    "slideshow": {
     "slide_type": "fragment"
    }
   },
   "source": [
    "#### String formatting before Python 3.6"
   ]
  },
  {
   "cell_type": "code",
   "execution_count": 1,
   "metadata": {},
   "outputs": [],
   "source": [
    "import math\n",
    "ftag = 2_022\n",
    "where = \"online\""
   ]
  },
  {
   "cell_type": "code",
   "execution_count": 4,
   "metadata": {
    "slideshow": {
     "slide_type": "fragment"
    }
   },
   "outputs": [],
   "source": [
    "message = \"Welcome to the FTAG Algo {} Good practice tutorial {}!\\nWe can round pi to {:.2f}\".format(ftag, where, math.pi)"
   ]
  },
  {
   "cell_type": "code",
   "execution_count": 5,
   "metadata": {
    "slideshow": {
     "slide_type": "fragment"
    }
   },
   "outputs": [
    {
     "name": "stdout",
     "output_type": "stream",
     "text": [
      "Welcome to the FTAG Algo 2022 Good practice tutorial online!\n",
      "We can round pi to 3.14\n"
     ]
    }
   ],
   "source": [
    "print(message)"
   ]
  },
  {
   "cell_type": "markdown",
   "metadata": {
    "slideshow": {
     "slide_type": "fragment"
    }
   },
   "source": [
    "#### String formatting with f-String"
   ]
  },
  {
   "cell_type": "code",
   "execution_count": 6,
   "metadata": {
    "slideshow": {
     "slide_type": "-"
    }
   },
   "outputs": [],
   "source": [
    "message_f = f\"Welcome to the FTAG Algo {ftag} Python mini workshop {where}!\\nWe can round pi to {math.pi:.2f}.\""
   ]
  },
  {
   "cell_type": "code",
   "execution_count": 7,
   "metadata": {
    "slideshow": {
     "slide_type": "fragment"
    }
   },
   "outputs": [
    {
     "name": "stdout",
     "output_type": "stream",
     "text": [
      "Welcome to the FTAG Algo 2022 Python mini workshop online!\n",
      "We can round pi to 3.14.\n"
     ]
    }
   ],
   "source": [
    "print(message_f)"
   ]
  },
  {
   "cell_type": "markdown",
   "metadata": {
    "slideshow": {
     "slide_type": "slide"
    }
   },
   "source": [
    "## True Division"
   ]
  },
  {
   "cell_type": "markdown",
   "metadata": {},
   "source": [
    "#### Python 2"
   ]
  },
  {
   "cell_type": "markdown",
   "metadata": {},
   "source": [
    "3/4 returned 0\n"
   ]
  },
  {
   "cell_type": "markdown",
   "metadata": {
    "slideshow": {
     "slide_type": "fragment"
    }
   },
   "source": [
    "#### Python 3"
   ]
  },
  {
   "cell_type": "code",
   "execution_count": null,
   "metadata": {},
   "outputs": [],
   "source": [
    "3/4"
   ]
  },
  {
   "cell_type": "markdown",
   "metadata": {},
   "source": [
    "In python 3 the operator `/` does not loose fractions"
   ]
  },
  {
   "cell_type": "markdown",
   "metadata": {
    "slideshow": {
     "slide_type": "fragment"
    }
   },
   "source": [
    "Integer division has its own operator"
   ]
  },
  {
   "cell_type": "code",
   "execution_count": null,
   "metadata": {},
   "outputs": [],
   "source": [
    "3//4"
   ]
  },
  {
   "cell_type": "markdown",
   "metadata": {
    "slideshow": {
     "slide_type": "slide"
    }
   },
   "source": [
    "# Dictionary operators"
   ]
  },
  {
   "cell_type": "markdown",
   "metadata": {},
   "source": [
    "New Merge (|) and update (|=) operators for dictionaries"
   ]
  },
  {
   "cell_type": "code",
   "execution_count": 8,
   "metadata": {
    "slideshow": {
     "slide_type": "fragment"
    }
   },
   "outputs": [],
   "source": [
    "dict1 = {\"key1\": \"CERN\", \"key2\": \"DESY\"}\n",
    "dict2 = {\"key2\": \"CH\", \"key3\": \"DE\"}"
   ]
  },
  {
   "cell_type": "code",
   "execution_count": 9,
   "metadata": {},
   "outputs": [
    {
     "data": {
      "text/plain": [
       "{'key1': 'CERN', 'key2': 'CH', 'key3': 'DE'}"
      ]
     },
     "execution_count": 9,
     "metadata": {},
     "output_type": "execute_result"
    }
   ],
   "source": [
    "dict1 | dict2"
   ]
  },
  {
   "cell_type": "code",
   "execution_count": 10,
   "metadata": {},
   "outputs": [
    {
     "data": {
      "text/plain": [
       "{'key2': 'DESY', 'key3': 'DE', 'key1': 'CERN'}"
      ]
     },
     "execution_count": 10,
     "metadata": {},
     "output_type": "execute_result"
    }
   ],
   "source": [
    "dict2 | dict1"
   ]
  },
  {
   "cell_type": "code",
   "execution_count": 11,
   "metadata": {},
   "outputs": [],
   "source": [
    "dict2 |= dict1"
   ]
  },
  {
   "cell_type": "code",
   "execution_count": 12,
   "metadata": {},
   "outputs": [
    {
     "data": {
      "text/plain": [
       "{'key2': 'DESY', 'key3': 'DE', 'key1': 'CERN'}"
      ]
     },
     "execution_count": 12,
     "metadata": {},
     "output_type": "execute_result"
    }
   ],
   "source": [
    "dict2"
   ]
  },
  {
   "cell_type": "markdown",
   "metadata": {},
   "source": [
    "- available since python 3.9"
   ]
  },
  {
   "cell_type": "markdown",
   "metadata": {
    "slideshow": {
     "slide_type": "slide"
    }
   },
   "source": [
    "# Parenthesised context managers"
   ]
  },
  {
   "cell_type": "code",
   "execution_count": null,
   "metadata": {},
   "outputs": [],
   "source": [
    "with (\n",
    "    CtxManager1() as example1,\n",
    "    CtxManager2() as example2,\n",
    "    CtxManager3() as example3,\n",
    "):\n",
    "    ..."
   ]
  },
  {
   "cell_type": "code",
   "execution_count": null,
   "metadata": {},
   "outputs": [],
   "source": []
  },
  {
   "cell_type": "markdown",
   "metadata": {
    "slideshow": {
     "slide_type": "slide"
    }
   },
   "source": [
    "# Structural Pattern Matching"
   ]
  },
  {
   "cell_type": "code",
   "execution_count": null,
   "metadata": {},
   "outputs": [],
   "source": [
    "def http_error(status):\n",
    "    match status:\n",
    "        case 400:\n",
    "            return \"Bad request\"\n",
    "        case 404:\n",
    "            return \"Not found\"\n",
    "        case 418:\n",
    "            return \"I'm a teapot\"\n",
    "        case _:\n",
    "            return \"Something's wrong with the internet\""
   ]
  },
  {
   "cell_type": "code",
   "execution_count": null,
   "metadata": {},
   "outputs": [],
   "source": [
    "http_error(418)"
   ]
  },
  {
   "cell_type": "markdown",
   "metadata": {
    "slideshow": {
     "slide_type": "slide"
    }
   },
   "source": [
    "# Pairwise function itertools"
   ]
  },
  {
   "cell_type": "code",
   "execution_count": null,
   "metadata": {},
   "outputs": [],
   "source": [
    "from itertools import pairwise\n",
    "words = [\"good\", \"morning\", \"routine\"]\n",
    "for w1, w2 in pairwise(words):\n",
    "    print(w1, w2)"
   ]
  },
  {
   "cell_type": "markdown",
   "metadata": {},
   "source": [
    "- available since python 3.10\n",
    "- useful e.g. when looping over indices for batches"
   ]
  },
  {
   "cell_type": "markdown",
   "metadata": {
    "slideshow": {
     "slide_type": "slide"
    }
   },
   "source": [
    "# Generators"
   ]
  },
  {
   "cell_type": "code",
   "execution_count": null,
   "metadata": {},
   "outputs": [],
   "source": [
    "def squares(end):\n",
    "    \"\"\"\n",
    "    Returns the squares of 0 up to (not including) the given end.\n",
    "    >>> squares(3)\n",
    "    [0, 1, 4]\n",
    "    \"\"\"\n",
    "    out = []\n",
    "    for i in range(end):\n",
    "        out.append(i * i)\n",
    "    return out"
   ]
  },
  {
   "cell_type": "code",
   "execution_count": null,
   "metadata": {},
   "outputs": [],
   "source": [
    "squares(3)"
   ]
  },
  {
   "cell_type": "markdown",
   "metadata": {},
   "source": [
    "This is a typical pattern:\n",
    "\n",
    " 1. Create empty list\n",
    " 2. Append items in loop\n",
    " 3. Return final list"
   ]
  },
  {
   "cell_type": "markdown",
   "metadata": {
    "slideshow": {
     "slide_type": "slide"
    }
   },
   "source": [
    "## Problematic when dealing with huge lists"
   ]
  },
  {
   "cell_type": "code",
   "execution_count": null,
   "metadata": {},
   "outputs": [],
   "source": [
    "small_list = squares(10)  # Returns list of 10 items\n",
    "sum(small_list)"
   ]
  },
  {
   "cell_type": "code",
   "execution_count": null,
   "metadata": {},
   "outputs": [],
   "source": [
    "large_list = squares(1000_000)  # Returns a list with 1 million items\n",
    "                                # Calling it with 1 billion exhausts my computer's memory\n",
    "sum(large_list)"
   ]
  },
  {
   "cell_type": "markdown",
   "metadata": {},
   "source": [
    "In this example\n",
    " - Don't need random access to items: `large_list[100]`\n",
    " - Need only to iterate over list once"
   ]
  },
  {
   "cell_type": "markdown",
   "metadata": {
    "slideshow": {
     "slide_type": "slide"
    }
   },
   "source": [
    "# Solution: Generators"
   ]
  },
  {
   "cell_type": "code",
   "execution_count": null,
   "metadata": {},
   "outputs": [],
   "source": [
    "def squares(end):\n",
    "    \"\"\"\n",
    "    Returns the squares of 0 up to (not including) the given end.\n",
    "    >>> squares(3)\n",
    "    [0, 1, 4]\n",
    "    \"\"\"\n",
    "    # Old implemenation:\n",
    "    # out = []\n",
    "    # for i in range(end):\n",
    "    #    out.append(i * i)\n",
    "    # return out\n",
    "    for i in range(end):\n",
    "        yield i * i  # yield one item at a time"
   ]
  },
  {
   "cell_type": "code",
   "execution_count": null,
   "metadata": {},
   "outputs": [],
   "source": [
    "squares(3)"
   ]
  },
  {
   "cell_type": "code",
   "execution_count": null,
   "metadata": {},
   "outputs": [],
   "source": [
    "list(squares(3))"
   ]
  },
  {
   "cell_type": "code",
   "execution_count": null,
   "metadata": {},
   "outputs": [],
   "source": [
    "sum(squares(1000_000))  # Computes one item at a time\n",
    "# Works even with 1 billion, takes ~2min"
   ]
  },
  {
   "cell_type": "markdown",
   "metadata": {
    "slideshow": {
     "slide_type": "slide"
    }
   },
   "source": [
    "## Exercise: Write a generator for a binary sequence"
   ]
  },
  {
   "cell_type": "markdown",
   "metadata": {},
   "source": [
    "The method should take a `limit` parameter. Each item in the sequence is the product of the previous value and `2`: $a_n = 2 \\cdot a_{n-1}$. The sequence starts with 1. The sequence should stop when the `limit` is reached."
   ]
  },
  {
   "cell_type": "code",
   "execution_count": null,
   "metadata": {},
   "outputs": [],
   "source": [
    "from solutions import exp_seq\n",
    "list(exp_seq(10))"
   ]
  },
  {
   "cell_type": "code",
   "execution_count": null,
   "metadata": {},
   "outputs": [],
   "source": [
    "sum(exp_seq(10))"
   ]
  },
  {
   "cell_type": "code",
   "execution_count": null,
   "metadata": {},
   "outputs": [],
   "source": [
    "sum(exp_seq(1000_1000))"
   ]
  },
  {
   "cell_type": "markdown",
   "metadata": {
    "slideshow": {
     "slide_type": "slide"
    }
   },
   "source": [
    "# Type hinting / Type declaration"
   ]
  },
  {
   "cell_type": "code",
   "execution_count": null,
   "metadata": {},
   "outputs": [],
   "source": [
    "def multiply_values(val1, val2):\n",
    "    \"\"\"Multiplies two floats and returns result.\"\"\"\n",
    "    return f\"Result: {val1 * val2}\""
   ]
  },
  {
   "cell_type": "code",
   "execution_count": null,
   "metadata": {
    "slideshow": {
     "slide_type": "fragment"
    }
   },
   "outputs": [],
   "source": [
    "multiply_values(5.4, 1.2)"
   ]
  },
  {
   "cell_type": "code",
   "execution_count": null,
   "metadata": {
    "slideshow": {
     "slide_type": "-"
    }
   },
   "outputs": [],
   "source": [
    "multiply_values(5, 2)"
   ]
  },
  {
   "cell_type": "code",
   "execution_count": null,
   "metadata": {
    "slideshow": {
     "slide_type": "-"
    }
   },
   "outputs": [],
   "source": [
    "multiply_values(True, False)"
   ]
  },
  {
   "cell_type": "markdown",
   "metadata": {
    "slideshow": {
     "slide_type": "fragment"
    }
   },
   "source": [
    "Common case!\n",
    "- Function intended to be used with floats\n",
    "- Python doesn't forbid other types"
   ]
  },
  {
   "cell_type": "markdown",
   "metadata": {
    "slideshow": {
     "slide_type": "slide"
    }
   },
   "source": [
    "### How to avoid that"
   ]
  },
  {
   "cell_type": "markdown",
   "metadata": {
    "slideshow": {
     "slide_type": "fragment"
    }
   },
   "source": [
    "Type hinting helps to remind yourself and other developers about your intentions\n",
    "\n",
    "- Hinted types of arguments\n",
    "- Hinted return type"
   ]
  },
  {
   "cell_type": "code",
   "execution_count": null,
   "metadata": {
    "slideshow": {
     "slide_type": "fragment"
    }
   },
   "outputs": [],
   "source": [
    "def multiply_values(val1: float, val2: float) -> str:\n",
    "    \"\"\"Multiplies two floats and returns result.\"\"\"\n",
    "    return f\"Result: {val1 * val2}\""
   ]
  },
  {
   "cell_type": "markdown",
   "metadata": {
    "slideshow": {
     "slide_type": "fragment"
    }
   },
   "source": [
    "Can ask for the type hints at run time:"
   ]
  },
  {
   "cell_type": "code",
   "execution_count": null,
   "metadata": {},
   "outputs": [],
   "source": [
    "from typing import get_type_hints"
   ]
  },
  {
   "cell_type": "code",
   "execution_count": null,
   "metadata": {},
   "outputs": [],
   "source": [
    "get_type_hints(multiply_values)"
   ]
  },
  {
   "cell_type": "markdown",
   "metadata": {
    "slideshow": {
     "slide_type": "slide"
    }
   },
   "source": [
    "### A few reminders"
   ]
  },
  {
   "cell_type": "markdown",
   "metadata": {},
   "source": [
    "Type hints are just _hints_, they do not declare types. Can still do this:"
   ]
  },
  {
   "cell_type": "code",
   "execution_count": null,
   "metadata": {},
   "outputs": [],
   "source": [
    "multiply_values(True, False)"
   ]
  },
  {
   "cell_type": "code",
   "execution_count": null,
   "metadata": {
    "slideshow": {
     "slide_type": "fragment"
    }
   },
   "outputs": [],
   "source": [
    "get_type_hints(multiply_values)"
   ]
  },
  {
   "cell_type": "markdown",
   "metadata": {
    "slideshow": {
     "slide_type": "fragment"
    }
   },
   "source": [
    "> Python will remain a dynamically typed language, and the authors have no desire to ever make type hints mandatory, even by convention."
   ]
  },
  {
   "cell_type": "markdown",
   "metadata": {
    "slideshow": {
     "slide_type": "slide"
    }
   },
   "source": [
    "# Logging"
   ]
  },
  {
   "cell_type": "markdown",
   "metadata": {
    "slideshow": {
     "slide_type": "fragment"
    }
   },
   "source": [
    "... defines functions and classes which implement a flexible event logging system for applications and libraries.\n",
    "- Track the status of software at runtime \n",
    "- Can be output, stored to a file, etc.\n",
    "- Can have different severity/importance levels\n",
    "- Can have custom output format"
   ]
  },
  {
   "cell_type": "markdown",
   "metadata": {
    "slideshow": {
     "slide_type": "slide"
    }
   },
   "source": [
    "### Logging levels\n",
    "\n",
    "\n",
    "- `DEBUG` – detailed information, only for problem diagnosis\n",
    "- `INFO` – conformative, \"working as expected\"\n",
    "- `WARNING` – something unexpected happened, maybe a problem in the near future, but: still working as expected\n",
    "- `ERROR` – more serious problem, some operation not executed\n",
    "- `CRITICAL` – serious error, program itself might be compromised"
   ]
  },
  {
   "cell_type": "markdown",
   "metadata": {
    "slideshow": {
     "slide_type": "slide"
    }
   },
   "source": [
    "### Loggers, Handlers, Formatters"
   ]
  },
  {
   "cell_type": "markdown",
   "metadata": {
    "slideshow": {
     "slide_type": "fragment"
    }
   },
   "source": [
    "- Loggers: to expose the interface that applications use\n",
    "- Handlers: to send the logs to the appropriate destination\n",
    "- Formatters: to specify the log layout in the final output"
   ]
  },
  {
   "cell_type": "code",
   "execution_count": null,
   "metadata": {
    "slideshow": {
     "slide_type": "fragment"
    }
   },
   "outputs": [],
   "source": [
    "import logging"
   ]
  },
  {
   "cell_type": "code",
   "execution_count": null,
   "metadata": {
    "slideshow": {
     "slide_type": "fragment"
    }
   },
   "outputs": [],
   "source": [
    "logger = logging.getLogger()\n",
    "logger.setLevel(\"INFO\")"
   ]
  },
  {
   "cell_type": "code",
   "execution_count": null,
   "metadata": {},
   "outputs": [],
   "source": [
    "handler = logging.StreamHandler()"
   ]
  },
  {
   "cell_type": "code",
   "execution_count": null,
   "metadata": {
    "slideshow": {
     "slide_type": "fragment"
    }
   },
   "outputs": [],
   "source": [
    "formatter = logging.Formatter(\n",
    "    \"%(funcName)s()  %(levelname)7s  %(message)s\", \n",
    "    '%H:%M:%S'\n",
    ")\n",
    "handler.setFormatter(formatter)"
   ]
  },
  {
   "cell_type": "code",
   "execution_count": null,
   "metadata": {},
   "outputs": [],
   "source": [
    "logger.addHandler(handler)"
   ]
  },
  {
   "cell_type": "markdown",
   "metadata": {
    "slideshow": {
     "slide_type": "slide"
    }
   },
   "source": [
    "### Simple example"
   ]
  },
  {
   "cell_type": "code",
   "execution_count": null,
   "metadata": {
    "slideshow": {
     "slide_type": "-"
    }
   },
   "outputs": [],
   "source": [
    "def floor(var: float) -> int:\n",
    "    \"\"\"Floors a float.\"\"\"\n",
    "    logger.info(f\"called with argument var={var}.\")\n",
    "    if type(var) not in [float, int]:\n",
    "        logger.error(\n",
    "            f\"called with var={var} which is neither float nor int.\"\n",
    "            \" Returned 'None' as I don't know what to do here.\"\n",
    "        )\n",
    "        return None\n",
    "    elif type(var) is not float:\n",
    "        logger.warning(f\"called with var={var} which is not a float.\")\n",
    "\n",
    "    return int(var)"
   ]
  },
  {
   "cell_type": "code",
   "execution_count": null,
   "metadata": {
    "slideshow": {
     "slide_type": "fragment"
    }
   },
   "outputs": [],
   "source": [
    "floor(3.7)"
   ]
  },
  {
   "cell_type": "code",
   "execution_count": null,
   "metadata": {
    "slideshow": {
     "slide_type": "-"
    }
   },
   "outputs": [],
   "source": [
    "floor(3)"
   ]
  },
  {
   "cell_type": "code",
   "execution_count": null,
   "metadata": {
    "slideshow": {
     "slide_type": "-"
    }
   },
   "outputs": [],
   "source": [
    "floor(\"3\")"
   ]
  },
  {
   "cell_type": "markdown",
   "metadata": {
    "slideshow": {
     "slide_type": "slide"
    }
   },
   "source": [
    "### More things to be done with loggers – some ideas"
   ]
  },
  {
   "cell_type": "markdown",
   "metadata": {
    "slideshow": {
     "slide_type": "fragment"
    }
   },
   "source": [
    "- Multiple handlers, e.g. to:\n",
    "  - send warning/error/fatal to std output\n",
    "  - send info/warning/error/fatal to a log file\n",
    "  - ...\n",
    "- Same or different formats for multiple handlers\n",
    "- Make use of a command-line argument `--debug` to:\n",
    "  - print everything down to debug level to std output\n",
    "  - use a different formatter that prints more info (e.g. module name + line number)"
   ]
  },
  {
   "cell_type": "markdown",
   "metadata": {
    "slideshow": {
     "slide_type": "slide"
    }
   },
   "source": [
    "# Command-line options -  [`argparse`](https://docs.python.org/3/library/argparse.html#module-argparse)\n",
    "\n",
    "Command-line parsing module in the Python standard library"
   ]
  },
  {
   "cell_type": "markdown",
   "metadata": {
    "slideshow": {
     "slide_type": "fragment"
    }
   },
   "source": [
    "All sorts of configurations possible:\n",
    "- Positional / Keyword\n",
    "- Default values\n",
    "- Keywords can be mandatory or optional\n",
    "- Help messages"
   ]
  },
  {
   "cell_type": "code",
   "execution_count": null,
   "metadata": {
    "slideshow": {
     "slide_type": "fragment"
    }
   },
   "outputs": [],
   "source": [
    "from argparse import ArgumentParser"
   ]
  },
  {
   "cell_type": "code",
   "execution_count": null,
   "metadata": {
    "slideshow": {
     "slide_type": "fragment"
    }
   },
   "outputs": [],
   "source": [
    "parser = ArgumentParser()"
   ]
  },
  {
   "cell_type": "markdown",
   "metadata": {
    "slideshow": {
     "slide_type": "slide"
    }
   },
   "source": [
    "### How to add arguments"
   ]
  },
  {
   "cell_type": "code",
   "execution_count": null,
   "metadata": {
    "slideshow": {
     "slide_type": "fragment"
    }
   },
   "outputs": [],
   "source": [
    "parser.add_argument(\"number\", type=float) # positional argument with type float"
   ]
  },
  {
   "cell_type": "code",
   "execution_count": null,
   "metadata": {
    "slideshow": {
     "slide_type": "fragment"
    }
   },
   "outputs": [],
   "source": [
    "parser.add_argument(\n",
    "    '-e',           # short-hand\n",
    "    '--exponent',   # full name\n",
    "    default=2,      # default value\n",
    "    type=int,       # int type\n",
    ")"
   ]
  },
  {
   "cell_type": "code",
   "execution_count": null,
   "metadata": {
    "slideshow": {
     "slide_type": "fragment"
    }
   },
   "outputs": [],
   "source": [
    "parser.add_argument(\n",
    "    \"-v\",                              # short-hand\n",
    "    \"--verbose\",                       # full name\n",
    "    help=\"increase output verbosity\",  # help message\n",
    "    action=\"store_true\",               # true/false\n",
    ")"
   ]
  },
  {
   "cell_type": "markdown",
   "metadata": {
    "slideshow": {
     "slide_type": "slide"
    }
   },
   "source": [
    "# What NOT to do\n",
    "\n",
    "\n",
    "### Thinks you should avoid with python"
   ]
  },
  {
   "cell_type": "markdown",
   "metadata": {
    "slideshow": {
     "slide_type": "slide"
    }
   },
   "source": [
    "### Misusing default arguments in functions\n",
    "you can define default values in a function"
   ]
  },
  {
   "cell_type": "code",
   "execution_count": 17,
   "metadata": {
    "slideshow": {
     "slide_type": "fragment"
    }
   },
   "outputs": [],
   "source": [
    "def ftag_append(ftag_list=[]):  # ftag_list is optional with the default value []\n",
    "    ftag_list.append(\"algo\") # this line can cause problems!\n",
    "    return ftag_list"
   ]
  },
  {
   "cell_type": "code",
   "execution_count": 29,
   "metadata": {
    "slideshow": {
     "slide_type": "fragment"
    }
   },
   "outputs": [
    {
     "data": {
      "text/plain": [
       "['algo']"
      ]
     },
     "execution_count": 29,
     "metadata": {},
     "output_type": "execute_result"
    }
   ],
   "source": [
    "ftag_append() "
   ]
  },
  {
   "cell_type": "markdown",
   "metadata": {
    "slideshow": {
     "slide_type": "fragment"
    }
   },
   "source": [
    "Possible way out of it"
   ]
  },
  {
   "cell_type": "code",
   "execution_count": 26,
   "metadata": {
    "slideshow": {
     "slide_type": "-"
    }
   },
   "outputs": [],
   "source": [
    "def ftag_append(ftag_list=None):  # setting default value to None\n",
    "    if ftag_list is None:\n",
    "        ftag_list = []\n",
    "    ftag_list.append(\"algo\")\n",
    "    return ftag_list"
   ]
  },
  {
   "cell_type": "code",
   "execution_count": 41,
   "metadata": {
    "slideshow": {
     "slide_type": "fragment"
    }
   },
   "outputs": [
    {
     "data": {
      "text/plain": [
       "['algo']"
      ]
     },
     "execution_count": 41,
     "metadata": {},
     "output_type": "execute_result"
    }
   ],
   "source": [
    "ftag_append()"
   ]
  },
  {
   "cell_type": "markdown",
   "metadata": {
    "slideshow": {
     "slide_type": "slide"
    }
   },
   "source": [
    "### Import Mistakes\n",
    "\n",
    "#### Wildcard Import"
   ]
  },
  {
   "cell_type": "code",
   "execution_count": null,
   "metadata": {
    "slideshow": {
     "slide_type": "fragment"
    }
   },
   "outputs": [],
   "source": [
    "from numpy import *"
   ]
  },
  {
   "cell_type": "markdown",
   "metadata": {},
   "source": [
    "* Can cause name clashing\n",
    "* Unnecessary import of unneeded functionalities"
   ]
  },
  {
   "cell_type": "markdown",
   "metadata": {
    "slideshow": {
     "slide_type": "fragment"
    }
   },
   "source": [
    "with python 3 e.g. ROOT does not allow wildcard import anymore\n",
    "```\n",
    "from ROOT import *\n",
    "```"
   ]
  },
  {
   "cell_type": "markdown",
   "metadata": {
    "slideshow": {
     "slide_type": "slide"
    }
   },
   "source": [
    "### Import Mistakes\n",
    "#### Name conflicts with other libraries"
   ]
  },
  {
   "cell_type": "markdown",
   "metadata": {
    "slideshow": {
     "slide_type": "fragment"
    }
   },
   "source": [
    "email is a python standard library\n",
    "```\n",
    "from email.message import EmailMessage\n",
    "```"
   ]
  },
  {
   "cell_type": "markdown",
   "metadata": {
    "slideshow": {
     "slide_type": "fragment"
    }
   },
   "source": [
    "```\n",
    "%%writefile email.py\n",
    "def GetMail():\n",
    "    return \"grk@physik.uni-freiburg.de\"\n",
    "```"
   ]
  },
  {
   "cell_type": "markdown",
   "metadata": {
    "slideshow": {
     "slide_type": "fragment"
    }
   },
   "source": [
    "```\n",
    "import email\n",
    "email.GetMail()\n",
    "```"
   ]
  },
  {
   "cell_type": "markdown",
   "metadata": {
    "slideshow": {
     "slide_type": "slide"
    }
   },
   "source": [
    "### Opening files"
   ]
  },
  {
   "cell_type": "markdown",
   "metadata": {},
   "source": [
    "Often used to open files\n",
    "```\n",
    "file = open(\"test.txt\", \"w\")\n",
    ".\n",
    ".\n",
    ".\n",
    "file.close()\n",
    "```\n",
    "This synthax can cause issues e.g. if there is an exception raised before `file.close()`"
   ]
  },
  {
   "cell_type": "markdown",
   "metadata": {
    "slideshow": {
     "slide_type": "fragment"
    }
   },
   "source": [
    "Saver way to open files\n",
    "```\n",
    "with open(\"test.txt\", \"w\") as file:\n",
    "    .\n",
    "    .\n",
    "    .\n",
    "```"
   ]
  },
  {
   "cell_type": "markdown",
   "metadata": {
    "slideshow": {
     "slide_type": "slide"
    }
   },
   "source": [
    "## Mutable assignment errors - Dictionaries\n",
    "\n",
    "We have a dictionary a"
   ]
  },
  {
   "cell_type": "code",
   "execution_count": 42,
   "metadata": {},
   "outputs": [],
   "source": [
    "a = {'1': \"one\", '2': 'two'}"
   ]
  },
  {
   "cell_type": "markdown",
   "metadata": {
    "slideshow": {
     "slide_type": "fragment"
    }
   },
   "source": [
    "Now we want to have the same dict again but leaving the previous one intact"
   ]
  },
  {
   "cell_type": "code",
   "execution_count": 43,
   "metadata": {
    "slideshow": {
     "slide_type": "fragment"
    }
   },
   "outputs": [],
   "source": [
    "b = a"
   ]
  },
  {
   "cell_type": "code",
   "execution_count": 44,
   "metadata": {
    "slideshow": {
     "slide_type": "fragment"
    }
   },
   "outputs": [
    {
     "data": {
      "text/plain": [
       "{'1': 'one', '2': 'two'}"
      ]
     },
     "execution_count": 44,
     "metadata": {},
     "output_type": "execute_result"
    }
   ],
   "source": [
    "b"
   ]
  },
  {
   "cell_type": "code",
   "execution_count": 45,
   "metadata": {
    "slideshow": {
     "slide_type": "fragment"
    }
   },
   "outputs": [],
   "source": [
    "b['3'] = \"three\""
   ]
  },
  {
   "cell_type": "code",
   "execution_count": 46,
   "metadata": {
    "slideshow": {
     "slide_type": "fragment"
    }
   },
   "outputs": [
    {
     "data": {
      "text/plain": [
       "{'1': 'one', '2': 'two', '3': 'three'}"
      ]
     },
     "execution_count": 46,
     "metadata": {},
     "output_type": "execute_result"
    }
   ],
   "source": [
    "a"
   ]
  },
  {
   "cell_type": "markdown",
   "metadata": {
    "slideshow": {
     "slide_type": "slide"
    }
   },
   "source": [
    "## Mutable assignment errors - Dictionaries\n",
    "#### What happened?\n",
    "Here b is a pointer -> reference to a.\n",
    "\n",
    "The same thing is happening for lists."
   ]
  },
  {
   "cell_type": "markdown",
   "metadata": {
    "slideshow": {
     "slide_type": "fragment"
    }
   },
   "source": [
    "Possible way out:"
   ]
  },
  {
   "cell_type": "code",
   "execution_count": null,
   "metadata": {},
   "outputs": [],
   "source": [
    "# for dicts\n",
    "b = a.copy()\n",
    "# for lists\n",
    "l = list(a.keys())\n",
    "cp = l[:]"
   ]
  },
  {
   "cell_type": "markdown",
   "metadata": {
    "slideshow": {
     "slide_type": "slide"
    }
   },
   "source": [
    "# Debugger PDB\n",
    "Your program crashes or doesn't do what it should?\n",
    "\n",
    "Debugging can be challenging\n",
    "<img src=\"material/debugging.png\" style=\"width: 80%; height: auto\" />"
   ]
  },
  {
   "cell_type": "markdown",
   "metadata": {
    "slideshow": {
     "slide_type": "slide"
    }
   },
   "source": [
    "## Example"
   ]
  },
  {
   "cell_type": "code",
   "execution_count": null,
   "metadata": {},
   "outputs": [],
   "source": [
    "from myproject import read_config, compute_all_results\n",
    "\n",
    "config = read_config()\n",
    "# ...\n",
    "results = compute_all_results(config)  # lengthy computation\n",
    "# ...\n",
    "for result in results:\n",
    "    if result == \"tt\":\n",
    "        print(\"We have the answer!\")\n",
    "        break\n",
    "else:\n",
    "    print(\"This should not happen.\")"
   ]
  },
  {
   "cell_type": "markdown",
   "metadata": {
    "slideshow": {
     "slide_type": "slide"
    }
   },
   "source": [
    "### Debugging with `print()`\n",
    "Add single print, rerun **whole** program"
   ]
  },
  {
   "cell_type": "code",
   "execution_count": null,
   "metadata": {},
   "outputs": [],
   "source": [
    "config = read_config()\n",
    "# ...\n",
    "results = compute_all_results(config)  # lengthy computation\n",
    "# ...\n",
    "print(results)  # Inspect the list of results\n",
    "for result in results:\n",
    "    if result == \"tt\":\n",
    "        print(\"We have the answer!\")\n",
    "        break\n",
    "else:\n",
    "    print(\"This should not happen.\")"
   ]
  },
  {
   "cell_type": "markdown",
   "metadata": {
    "slideshow": {
     "slide_type": "fragment"
    }
   },
   "source": [
    "- `tt` in results\n",
    "- Why not detected in loop?"
   ]
  },
  {
   "cell_type": "markdown",
   "metadata": {
    "slideshow": {
     "slide_type": "slide"
    }
   },
   "source": [
    "### Debugging with `print()`\n",
    "Add another print, rerun **whole** program **again**"
   ]
  },
  {
   "cell_type": "code",
   "execution_count": null,
   "metadata": {},
   "outputs": [],
   "source": [
    "config = read_config()\n",
    "# ...\n",
    "results = compute_all_results(config)  # lengthy computation\n",
    "# ...\n",
    "print(results)  # Inspect the list of results\n",
    "for result in results:\n",
    "    print(result)\n",
    "    if result == \"tt\":\n",
    "        print(\"We have the answer!\")\n",
    "        break\n",
    "else:\n",
    "    print(\"This should not happen.\")"
   ]
  },
  {
   "cell_type": "markdown",
   "metadata": {
    "slideshow": {
     "slide_type": "slide"
    }
   },
   "source": [
    "### Better: Using debugger\n",
    "Insert `breakpoint()` (or `import pdb; pdb.set_trace()` before Python 3.7) and rerun whole program"
   ]
  },
  {
   "cell_type": "code",
   "execution_count": null,
   "metadata": {
    "slideshow": {
     "slide_type": "-"
    }
   },
   "outputs": [],
   "source": [
    "config = read_config()\n",
    "# ...\n",
    "results = compute_all_results(config)  # lengthy computation\n",
    "# ...\n",
    "import pdb; pdb.set_trace()  # This works also before 3.7\n",
    "for result in results:\n",
    "    if result == \"tt\":\n",
    "        print(\"We have the answer!\")\n",
    "        break\n",
    "else:\n",
    "    print(\"This should not happen.\")"
   ]
  },
  {
   "cell_type": "markdown",
   "metadata": {
    "slideshow": {
     "slide_type": "slide"
    }
   },
   "source": [
    "### Better: Using debugger\n",
    " - Trigger debugger\n",
    "   - Add `breakpoint()` or `import pdb; pdb.set_trace()`\n",
    "   - Run `python -m pdb your_program.py`\n",
    " - Command summary\n",
    "   - `b [FILE:]LINE` adds a new **b**earkpoint\n",
    "   - `c` **c**ontinue to next breakpoint\n",
    "   - `n` run **n**ext statement\n",
    "   - `s` **s**tep into method call\n",
    "   - `u` move one level up (reverts `s`)\n",
    "   - `cl [N]` clear breakpoints or breakpoint `N`\n",
    "   - `q` **q**uit\n",
    "   - `h` **h**elp"
   ]
  },
  {
   "cell_type": "markdown",
   "metadata": {
    "slideshow": {
     "slide_type": "slide"
    }
   },
   "source": [
    "## Exercise:\n",
    "Investigate the example below:"
   ]
  },
  {
   "cell_type": "code",
   "execution_count": null,
   "metadata": {},
   "outputs": [],
   "source": [
    "cities = set([\"London\", \"Paris\", \"Bern\"])  # Unordered collection\n",
    "\n",
    "def get_new_cities():\n",
    "    new_cities = []\n",
    "    new_cities.append(\"Oslo\")\n",
    "    new_cities.append(\"Praque\")\n",
    "    return set(new_cities)\n",
    "\n",
    "cities.union(get_new_cities())\n",
    "\n",
    "print(cities)  # Does not include Oslo, Praque!"
   ]
  },
  {
   "cell_type": "markdown",
   "metadata": {
    "slideshow": {
     "slide_type": "slide"
    }
   },
   "source": [
    "# Code formatting & Linting\n",
    "\n",
    "Code formatter = runs over your code and applies styling changes\n",
    "\n",
    "Linter = scans the code to flag:\n",
    " - Programming errors / invalid syntax\n",
    " - Suspicious constructs (\"code that smells\")\n",
    " - Stylistic errors (enforces common style within a team)\n",
    " \n",
    "The combination of the two is extremely powerful!"
   ]
  },
  {
   "cell_type": "markdown",
   "metadata": {
    "slideshow": {
     "slide_type": "slide"
    }
   },
   "source": [
    "## Linter example\n",
    "\n",
    "The the slightly modified example of the cities.\n",
    "```python\n",
    "# debug_exercise.py\n",
    "cities = [\"London\", \"Paris\", \"Bern\"]\n",
    "\n",
    "def get_nordic_cities():\n",
    "    cities = []\n",
    "    cities.append(\"Oslo\")\n",
    "    cities.append(\"Stockholm\")\n",
    "    return cities\n",
    "\n",
    "nordic_cities = get_nordic_cities()\n",
    "\n",
    "print(cities)  # Still contains London, Paris, Bern\n",
    "```"
   ]
  },
  {
   "cell_type": "markdown",
   "metadata": {
    "slideshow": {
     "slide_type": "slide"
    }
   },
   "source": [
    "## Linter example\n",
    "\n",
    "```console\n",
    "$ python -m pylint debug_exercise.py\n",
    "example.py:1:0: C0114: Missing module docstring (missing-module-docstring)\n",
    "example.py:6:4: W0621: Redefining name 'cities' from outer scope (line 3) (redefined-outer-name)\n",
    "example.py:5:0: C0116: Missing function or method docstring (missing-function-docstring)\n",
    "\n",
    "------------------------------------------------------------------\n",
    "Your code has been rated at 6.25/10 (previous run: 6.25/10, +0.00)\n",
    "```\n",
    " - `cities` redefined within the function\n",
    " - In this example the redefinition might be obvious and not a problem\n",
    " - But what if the code is much more complex? Shadowing is dangerous!\n",
    " - Linter would have given a hint of the problem already\n"
   ]
  },
  {
   "cell_type": "markdown",
   "metadata": {
    "slideshow": {
     "slide_type": "slide"
    }
   },
   "source": [
    "## What to take away"
   ]
  },
  {
   "cell_type": "markdown",
   "metadata": {},
   "source": [
    "- Code formatter, e.g. `black`, to have uniform code style\n",
    "- `pylint`, `flake8`, ... + other style checkers to cross-check syntax, constructs etc"
   ]
  },
  {
   "cell_type": "markdown",
   "metadata": {},
   "source": [
    "The best is the combination of both! Ideal for pre-commit hooks & CI/CD:\n",
    "- Pre-commit hooks – no \"broken\" commits:\n",
    "  - code formatter \n",
    "  - style checker / linter\n",
    "  - other safety nets, e.g. yaml syntax checker\n",
    "- Continuous integration: linter + all actual code tests"
   ]
  },
  {
   "cell_type": "markdown",
   "metadata": {
    "slideshow": {
     "slide_type": "slide"
    }
   },
   "source": [
    "# Auxiliary Material\n",
    "\n",
    "severl concepts of python we couldn't cover in the tutorial"
   ]
  },
  {
   "cell_type": "markdown",
   "metadata": {
    "slideshow": {
     "slide_type": "slide"
    }
   },
   "source": [
    "## Print Function"
   ]
  },
  {
   "cell_type": "code",
   "execution_count": null,
   "metadata": {
    "slideshow": {
     "slide_type": "fragment"
    }
   },
   "outputs": [],
   "source": [
    "print(\"Hello world!\")"
   ]
  },
  {
   "cell_type": "code",
   "execution_count": null,
   "metadata": {
    "slideshow": {
     "slide_type": "fragment"
    }
   },
   "outputs": [],
   "source": [
    "print(\"Hello\", \"world\", sep=\"-\")"
   ]
  },
  {
   "cell_type": "code",
   "execution_count": null,
   "metadata": {
    "slideshow": {
     "slide_type": "fragment"
    }
   },
   "outputs": [],
   "source": [
    "print('home', 'user', 'documents', sep='/')"
   ]
  },
  {
   "cell_type": "code",
   "execution_count": null,
   "metadata": {
    "slideshow": {
     "slide_type": "skip"
    }
   },
   "outputs": [],
   "source": [
    "print('', 'home', 'user', 'documents', sep='/')"
   ]
  },
  {
   "cell_type": "markdown",
   "metadata": {
    "slideshow": {
     "slide_type": "slide"
    }
   },
   "source": [
    "## Print Function"
   ]
  },
  {
   "cell_type": "code",
   "execution_count": null,
   "metadata": {},
   "outputs": [],
   "source": [
    "print('Mercury', 'Venus', 'Earth', sep=', ', end=\", \")\n",
    "print('Mars', 'Jupiter', 'Saturn', sep=', ', end=', ')\n",
    "print('Uranus', 'Neptune', 'Pluto', sep=', ')"
   ]
  },
  {
   "cell_type": "markdown",
   "metadata": {
    "slideshow": {
     "slide_type": "fragment"
    }
   },
   "source": [
    "### Writing to file"
   ]
  },
  {
   "cell_type": "code",
   "execution_count": null,
   "metadata": {},
   "outputs": [],
   "source": [
    "!cat file.txt"
   ]
  },
  {
   "cell_type": "code",
   "execution_count": null,
   "metadata": {},
   "outputs": [],
   "source": [
    "with open('file.txt', mode='w') as file_object:\n",
    "    print('hello world', file=file_object)"
   ]
  },
  {
   "cell_type": "markdown",
   "metadata": {
    "slideshow": {
     "slide_type": "slide"
    }
   },
   "source": [
    "## What is Object-Oriented Programming (OOP)\n",
    "<img style=\"float: right; width: 30%\" src=\"material/oop.svg\" />\n",
    "\n",
    "\n",
    " - You've used it already:\n",
    " \n",
    "     ```python\n",
    "     \"Hello World\".lower()\n",
    "     ```\n",
    "\n",
    "     The string `\"Hello World\"` is an object of `str` class.\n",
    " - Class is a *blueprint* to create instances, called *objects*\n",
    " - Combines data and functions\n",
    " - Example: Particles in an experiment"
   ]
  },
  {
   "cell_type": "code",
   "execution_count": null,
   "metadata": {
    "slideshow": {
     "slide_type": "fragment"
    }
   },
   "outputs": [],
   "source": [
    "class Particle:\n",
    "    def __init__(self, mass, charge):\n",
    "        self.mass = mass\n",
    "        self.charge = charge"
   ]
  },
  {
   "cell_type": "code",
   "execution_count": null,
   "metadata": {
    "slideshow": {
     "slide_type": "fragment"
    }
   },
   "outputs": [],
   "source": [
    "bert = Particle(125, 0)\n",
    "bert.mass"
   ]
  },
  {
   "cell_type": "code",
   "execution_count": null,
   "metadata": {
    "slideshow": {
     "slide_type": "slide"
    }
   },
   "outputs": [],
   "source": [
    "class Particle:\n",
    "    def __init__(self, mass, charge):\n",
    "        # __init__() is called when new object is created.\n",
    "        # First argument (self) is the new object\n",
    "        self.mass = mass\n",
    "        self.charge = charge\n",
    "        \n",
    "    def anti(self):\n",
    "        # First argument is the object on which anti() is called\n",
    "        \n",
    "        # Create new particle with same mass and\n",
    "        # opposite charge\n",
    "        return Particle(self.mass, -self.charge)"
   ]
  },
  {
   "cell_type": "code",
   "execution_count": null,
   "metadata": {
    "slideshow": {
     "slide_type": "-"
    }
   },
   "outputs": [],
   "source": [
    "bert = Particle(1.777, -1)\n",
    "ernie = bert.anti()\n",
    "ernie.charge"
   ]
  },
  {
   "cell_type": "code",
   "execution_count": null,
   "metadata": {
    "slideshow": {
     "slide_type": "-"
    }
   },
   "outputs": [],
   "source": [
    "ernie.mass"
   ]
  },
  {
   "cell_type": "code",
   "execution_count": null,
   "metadata": {
    "slideshow": {
     "slide_type": "-"
    }
   },
   "outputs": [],
   "source": [
    "bert.charge  # Original particle not changed"
   ]
  },
  {
   "cell_type": "code",
   "execution_count": null,
   "metadata": {
    "slideshow": {
     "slide_type": "slide"
    }
   },
   "outputs": [],
   "source": [
    "class Particle:\n",
    "    def __init__(self, mass, charge):\n",
    "        # __init__() is called when new object is created.\n",
    "        # First argument (self) is the new object\n",
    "        self.mass = mass\n",
    "        self.charge = charge\n",
    "        \n",
    "    def anti(self):\n",
    "        # First argument is the object on which anti() is called\n",
    "        \n",
    "        # Create new particle with same mass and\n",
    "        # opposite charge\n",
    "        return Particle(self.mass, -self.charge)\n",
    "        \n",
    "    def flip_charge(self):\n",
    "        # Change the charge of the particle itself (instead of creating a new one)\n",
    "        \n",
    "        self.charge *= -1"
   ]
  },
  {
   "cell_type": "code",
   "execution_count": null,
   "metadata": {},
   "outputs": [],
   "source": [
    "bert = Particle(1.777, -1)\n",
    "bert.charge"
   ]
  },
  {
   "cell_type": "code",
   "execution_count": null,
   "metadata": {},
   "outputs": [],
   "source": [
    "bert.flip_charge()  # Changes the original particle\n",
    "bert.charge"
   ]
  },
  {
   "cell_type": "markdown",
   "metadata": {
    "slideshow": {
     "slide_type": "slide"
    }
   },
   "source": [
    "## Exercise: Implement a 2D Vector\n",
    "\n",
    "Implement a `Vector2D` class such that the following lines work"
   ]
  },
  {
   "cell_type": "code",
   "execution_count": null,
   "metadata": {},
   "outputs": [],
   "source": [
    "from solutions import Vector2D\n",
    "a = Vector2D(4, 3)\n",
    "a.x"
   ]
  },
  {
   "cell_type": "code",
   "execution_count": null,
   "metadata": {},
   "outputs": [],
   "source": [
    "a.y"
   ]
  },
  {
   "cell_type": "code",
   "execution_count": null,
   "metadata": {},
   "outputs": [],
   "source": [
    "a.length()"
   ]
  },
  {
   "cell_type": "code",
   "execution_count": null,
   "metadata": {
    "scrolled": true
   },
   "outputs": [],
   "source": [
    "a.scale(3)\n",
    "a.length()"
   ]
  },
  {
   "cell_type": "markdown",
   "metadata": {
    "slideshow": {
     "slide_type": "slide"
    }
   },
   "source": [
    "## Inheritance"
   ]
  },
  {
   "cell_type": "markdown",
   "metadata": {
    "slideshow": {
     "slide_type": "fragment"
    }
   },
   "source": [
    " - Sub-classes extend parent classes\n",
    " - Share functionality implemented in parent classes\n",
    " - Terminology: parent class = \"base class\"; sub-class = \"derived class\"\n",
    " - Inheritance models = \"**is a**\"-type relationships\n",
    "   - A `Fermion` **is a** `Particle`\n",
    "   - A `Particle` is not necessariliy a `Fermion`\n",
    " - Example: Include sub-classes `Fermion` and `Boson`"
   ]
  },
  {
   "cell_type": "code",
   "execution_count": null,
   "metadata": {
    "slideshow": {
     "slide_type": "fragment"
    }
   },
   "outputs": [],
   "source": [
    "class Boson(Particle):\n",
    "    def interact_with_higgs(self, factor=1.5):\n",
    "        # Bosons can increase their mass by interacting with the Higgs field (NEW PHYSICS!)\n",
    "        self.mass *= factor\n",
    "\n",
    "class Fermion(Particle):\n",
    "    def __init__(self, mass, charge, generation):\n",
    "        super().__init__(mass, charge)  # Create a regular particle\n",
    "        self.generation = generation"
   ]
  },
  {
   "cell_type": "code",
   "execution_count": null,
   "metadata": {
    "slideshow": {
     "slide_type": "slide"
    }
   },
   "outputs": [],
   "source": [
    "tau = Fermion(1.777, -1, 3)\n",
    "tau.generation"
   ]
  },
  {
   "cell_type": "code",
   "execution_count": null,
   "metadata": {},
   "outputs": [],
   "source": [
    "Z = Boson(60.78, 0)\n",
    "Z.mass"
   ]
  },
  {
   "cell_type": "code",
   "execution_count": null,
   "metadata": {},
   "outputs": [],
   "source": [
    "Z.interact_with_higgs()\n",
    "Z.mass"
   ]
  },
  {
   "cell_type": "code",
   "execution_count": null,
   "metadata": {},
   "outputs": [],
   "source": [
    "Z.generation  # Z is a Boson which do not come in generations"
   ]
  },
  {
   "cell_type": "code",
   "execution_count": null,
   "metadata": {},
   "outputs": [],
   "source": [
    "tau.interact_with_higgs()"
   ]
  },
  {
   "cell_type": "markdown",
   "metadata": {
    "slideshow": {
     "slide_type": "slide"
    }
   },
   "source": [
    "## Other interesting things about OOP\n",
    "\n",
    " - Methods `__str__` and `__repr__` can be overridden\n",
    "   - Reminder: `__repr__` = unambiguous representation of an object\n",
    "   - Reminder: `__str__` = \"pretty\" printable representation (defaults to `__repr__`)\n",
    " - Operators can be overriden: `ernie + bert`\n",
    " - Polymorphism: methods with different implementations sub-classes, e.g.\n",
    "   - `Fermion.susy()` returns a Boson\n",
    "   - `Boson.susy()` returns a Fermion"
   ]
  }
 ],
 "metadata": {
  "celltoolbar": "Slideshow",
  "kernelspec": {
   "display_name": "Python 3 (ipykernel)",
   "language": "python",
   "name": "python3"
  },
  "language_info": {
   "codemirror_mode": {
    "name": "ipython",
    "version": 3
   },
   "file_extension": ".py",
   "mimetype": "text/x-python",
   "name": "python",
   "nbconvert_exporter": "python",
   "pygments_lexer": "ipython3",
   "version": "3.10.0"
  },
  "rise": {
   "theme": "serif"
  }
 },
 "nbformat": 4,
 "nbformat_minor": 2
}
